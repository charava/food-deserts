{
 "cells": [
  {
   "cell_type": "code",
   "execution_count": null,
   "metadata": {},
   "outputs": [],
   "source": [
    "import matplotlib.pyplot as plt\n",
    "import geopandas as gpd\n",
    "import numpy as np\n",
    "import pandas as pd\n",
    "from shapely.geometry import Point"
   ]
  },
  {
   "cell_type": "code",
   "execution_count": null,
   "metadata": {},
   "outputs": [],
   "source": [
    "latlong = pd.read_csv('latlong.csv')"
   ]
  },
  {
   "cell_type": "code",
   "execution_count": null,
   "metadata": {},
   "outputs": [],
   "source": [
    "latlong2 = pd.read_csv('latlong2.csv')"
   ]
  },
  {
   "cell_type": "code",
   "execution_count": null,
   "metadata": {},
   "outputs": [],
   "source": [
    "geometry = [Point(xy) for xy in zip(latlong.Longitude, latlong.Latitude)]"
   ]
  },
  {
   "cell_type": "code",
   "execution_count": null,
   "metadata": {},
   "outputs": [],
   "source": [
    "geo_df = gpd.GeoDataFrame(geometry = geometry)"
   ]
  },
  {
   "cell_type": "code",
   "execution_count": null,
   "metadata": {},
   "outputs": [],
   "source": [
    "geo_df['geometry'] = geo_df['geometry'][geo_df['geometry'].x < -110]"
   ]
  },
  {
   "cell_type": "code",
   "execution_count": null,
   "metadata": {},
   "outputs": [],
   "source": [
    "latlong['coords'] = list(zip(latlong.Longitude,latlong.Latitude))"
   ]
  },
  {
   "cell_type": "code",
   "execution_count": null,
   "metadata": {},
   "outputs": [],
   "source": [
    "latlong = latlong.drop(['Latitude','Longitude'],axis=1,)"
   ]
  },
  {
   "cell_type": "code",
   "execution_count": null,
   "metadata": {},
   "outputs": [],
   "source": [
    "latlong.dropna().to_csv('stuff_fixed.csv')"
   ]
  },
  {
   "cell_type": "code",
   "execution_count": null,
   "metadata": {},
   "outputs": [],
   "source": [
    "latlong['coords'] = latlong['coords'][latlong['coords'] < (-110,1000)]"
   ]
  },
  {
   "cell_type": "code",
   "execution_count": null,
   "metadata": {
    "scrolled": true
   },
   "outputs": [],
   "source": [
    "import geopandas as gpd\n",
    "from pyproj import Transformer\n",
    "import matplotlib.pyplot as plt\n",
    "\n",
    "geojson_path = 'California_Zip_Codes.geojson'\n",
    "\n",
    "gdf = gpd.read_file(geojson_path)\n",
    "\n",
    "gdf = gdf.set_geometry('geometry')\n",
    "\n",
    "transformer = Transformer.from_crs(gdf.crs, \"EPSG:4326\", always_xy=True)\n",
    "\n",
    "gdf = gdf.to_crs(\"EPSG:4326\")\n",
    "\n",
    "gdf[\"latitude\"] = gdf[\"geometry\"].apply(lambda geom: geom.centroid.y)\n",
    "gdf[\"longitude\"] = gdf[\"geometry\"].apply(lambda geom: geom.centroid.x)\n",
    "\n",
    "#fig, ax = plt.subplots(figsize=(10, 10))\n",
    "#gdf.plot(ax=ax, edgecolor='black', linewidth=0.5)\n",
    "#plt.title(\"GeoJSON File with Lat/Lon Coordinates\")\n",
    "#plt.xlabel(\"Longitude\")\n",
    "##plt.ylabel(\"Latitude\")\n",
    "#plt.show()"
   ]
  },
  {
   "cell_type": "code",
   "execution_count": null,
   "metadata": {
    "scrolled": false
   },
   "outputs": [],
   "source": [
    "geo_df.plot(ax=gdf.plot(),marker='o', color='red', markersize=1) #plot grocery stores"
   ]
  },
  {
   "cell_type": "code",
   "execution_count": null,
   "metadata": {},
   "outputs": [],
   "source": [
    "zipcodes = list(latlong2['Zip Codes'])"
   ]
  },
  {
   "cell_type": "code",
   "execution_count": null,
   "metadata": {},
   "outputs": [],
   "source": [
    "weights = []\n",
    "radii = []"
   ]
  },
  {
   "cell_type": "code",
   "execution_count": null,
   "metadata": {},
   "outputs": [],
   "source": [
    "good = pd.read_csv('good2.csv')\n",
    "good = good.drop(['Transportation data normalized','Ratio of Incomes','Pop per sq mile, filtered for neg and aligned for zip codes','Weight?','max radius'],axis=1)\n",
    "good = good.drop_duplicates('ZIP_CODE')\n",
    "good = good.set_index('ZIP_CODE')"
   ]
  },
  {
   "cell_type": "code",
   "execution_count": null,
   "metadata": {},
   "outputs": [],
   "source": [
    "for zipcode in zipcodes:\n",
    "    weights.append(good.loc[zipcode].weight)\n",
    "    radii.append(good.loc[zipcode].radius)"
   ]
  },
  {
   "cell_type": "code",
   "execution_count": null,
   "metadata": {},
   "outputs": [],
   "source": [
    "weights_df = pd.DataFrame(columns=['weight'])"
   ]
  },
  {
   "cell_type": "code",
   "execution_count": null,
   "metadata": {
    "scrolled": true
   },
   "outputs": [],
   "source": [
    "weights_df['weight'] = weights #replace with list of weights"
   ]
  },
  {
   "cell_type": "code",
   "execution_count": null,
   "metadata": {},
   "outputs": [],
   "source": [
    "dist = radii #replace with list of radii in miles"
   ]
  },
  {
   "cell_type": "code",
   "execution_count": null,
   "metadata": {},
   "outputs": [],
   "source": [
    "dist2 = [x/69 for x in dist] #converts miles to degrees for buffer"
   ]
  },
  {
   "cell_type": "code",
   "execution_count": null,
   "metadata": {
    "scrolled": false
   },
   "outputs": [],
   "source": [
    "new_df = geo_df.copy()\n",
    "for i in range(len(geo_df['geometry'])):\n",
    "    try:\n",
    "        new_df['geometry'][i] = new_df['geometry'][i].buffer(dist2[i])\n",
    "    except AttributeError:\n",
    "        continue\n",
    "new_df['weight'] = weights"
   ]
  },
  {
   "cell_type": "code",
   "execution_count": null,
   "metadata": {
    "scrolled": false
   },
   "outputs": [],
   "source": [
    "new_df.plot(ax=gdf.plot(),marker='o', cmap='Reds', markersize=10,column='weight',alpha=1) #with weight"
   ]
  },
  {
   "cell_type": "code",
   "execution_count": null,
   "metadata": {},
   "outputs": [],
   "source": [
    "new_df.plot(ax=gdf.plot(),marker='o', markersize=0,color='Red') #without weight"
   ]
  }
 ],
 "metadata": {
  "kernelspec": {
   "display_name": "Python 3 (ipykernel)",
   "language": "python",
   "name": "python3"
  },
  "language_info": {
   "codemirror_mode": {
    "name": "ipython",
    "version": 3
   },
   "file_extension": ".py",
   "mimetype": "text/x-python",
   "name": "python",
   "nbconvert_exporter": "python",
   "pygments_lexer": "ipython3",
   "version": "3.8.18"
  }
 },
 "nbformat": 4,
 "nbformat_minor": 2
}
