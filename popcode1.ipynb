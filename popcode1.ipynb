{
 "cells": [
  {
   "cell_type": "code",
   "execution_count": 1,
   "metadata": {},
   "outputs": [
    {
     "name": "stderr",
     "output_type": "stream",
     "text": [
      "/Users/charosa/Library/Python/3.9/lib/python/site-packages/urllib3/__init__.py:34: NotOpenSSLWarning: urllib3 v2.0 only supports OpenSSL 1.1.1+, currently the 'ssl' module is compiled with 'LibreSSL 2.8.3'. See: https://github.com/urllib3/urllib3/issues/3020\n",
      "  warnings.warn(\n"
     ]
    },
    {
     "name": "stdout",
     "output_type": "stream",
     "text": [
      "torch.Size([1, 10570, 9220])\n"
     ]
    }
   ],
   "source": [
    "from torchvision.transforms import ToTensor\n",
    "import rasterio\n",
    "import numpy as np\n",
    "\n",
    "path = '/Users/charosa/Documents/CA POPULATION/Grids/CAPOP_2020_100m_TOTAL.tif'\n",
    "\n",
    "with rasterio.open(path) as image:\n",
    "    image_array = image.read()\n",
    "\n",
    "# Transpose the image_array to match the (C, H, W) format\n",
    "image_array = np.transpose(image_array, (1, 2, 0))\n",
    "\n",
    "torch_image = ToTensor()(image_array)\n",
    "print(torch_image.shape)\n"
   ]
  },
  {
   "cell_type": "code",
   "execution_count": 4,
   "metadata": {},
   "outputs": [
    {
     "ename": "NameError",
     "evalue": "name 'show' is not defined",
     "output_type": "error",
     "traceback": [
      "\u001b[0;31m---------------------------------------------------------------------------\u001b[0m",
      "\u001b[0;31mNameError\u001b[0m                                 Traceback (most recent call last)",
      "\u001b[1;32m/Users/charosa/Documents/CA POPULATION/popul.ipynb Cell 2\u001b[0m line \u001b[0;36m1\n\u001b[0;32m----> <a href='vscode-notebook-cell:/Users/charosa/Documents/CA%20POPULATION/popul.ipynb#W1sZmlsZQ%3D%3D?line=0'>1</a>\u001b[0m show(image_array)\n\u001b[1;32m      <a href='vscode-notebook-cell:/Users/charosa/Documents/CA%20POPULATION/popul.ipynb#W1sZmlsZQ%3D%3D?line=1'>2</a>\u001b[0m ds \u001b[39m=\u001b[39m rasterio\u001b[39m.\u001b[39mopen(path)\n\u001b[1;32m      <a href='vscode-notebook-cell:/Users/charosa/Documents/CA%20POPULATION/popul.ipynb#W1sZmlsZQ%3D%3D?line=2'>3</a>\u001b[0m show((ds, \u001b[39m1\u001b[39m), cmap\u001b[39m=\u001b[39m\u001b[39m'\u001b[39m\u001b[39mReds\u001b[39m\u001b[39m'\u001b[39m)\n",
      "\u001b[0;31mNameError\u001b[0m: name 'show' is not defined"
     ]
    }
   ],
   "source": [
    "show(image_array)\n",
    "ds = rasterio.open(path)\n",
    "show((ds, 1), cmap='Reds')\n"
   ]
  }
 ],
 "metadata": {
  "kernelspec": {
   "display_name": "Python 3",
   "language": "python",
   "name": "python3"
  },
  "language_info": {
   "codemirror_mode": {
    "name": "ipython",
    "version": 3
   },
   "file_extension": ".py",
   "mimetype": "text/x-python",
   "name": "python",
   "nbconvert_exporter": "python",
   "pygments_lexer": "ipython3",
   "version": "3.9.6"
  }
 },
 "nbformat": 4,
 "nbformat_minor": 2
}
